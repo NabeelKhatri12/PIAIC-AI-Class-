{
 "cells": [
  {
   "cell_type": "markdown",
   "metadata": {},
   "source": [
    "# List and its attributes"
   ]
  },
  {
   "cell_type": "code",
   "execution_count": 1,
   "metadata": {},
   "outputs": [],
   "source": [
    "cities = [\"karachi\", \"islamabad\", \"lahore\", \"peshawar\"]"
   ]
  },
  {
   "cell_type": "code",
   "execution_count": 2,
   "metadata": {},
   "outputs": [
    {
     "data": {
      "text/plain": [
       "['__add__',\n",
       " '__class__',\n",
       " '__contains__',\n",
       " '__delattr__',\n",
       " '__delitem__',\n",
       " '__dir__',\n",
       " '__doc__',\n",
       " '__eq__',\n",
       " '__format__',\n",
       " '__ge__',\n",
       " '__getattribute__',\n",
       " '__getitem__',\n",
       " '__gt__',\n",
       " '__hash__',\n",
       " '__iadd__',\n",
       " '__imul__',\n",
       " '__init__',\n",
       " '__init_subclass__',\n",
       " '__iter__',\n",
       " '__le__',\n",
       " '__len__',\n",
       " '__lt__',\n",
       " '__mul__',\n",
       " '__ne__',\n",
       " '__new__',\n",
       " '__reduce__',\n",
       " '__reduce_ex__',\n",
       " '__repr__',\n",
       " '__reversed__',\n",
       " '__rmul__',\n",
       " '__setattr__',\n",
       " '__setitem__',\n",
       " '__sizeof__',\n",
       " '__str__',\n",
       " '__subclasshook__',\n",
       " 'append',\n",
       " 'clear',\n",
       " 'copy',\n",
       " 'count',\n",
       " 'extend',\n",
       " 'index',\n",
       " 'insert',\n",
       " 'pop',\n",
       " 'remove',\n",
       " 'reverse',\n",
       " 'sort']"
      ]
     },
     "execution_count": 2,
     "metadata": {},
     "output_type": "execute_result"
    }
   ],
   "source": [
    "dir(cities)"
   ]
  },
  {
   "cell_type": "code",
   "execution_count": 4,
   "metadata": {},
   "outputs": [
    {
     "name": "stdout",
     "output_type": "stream",
     "text": [
      "<method-wrapper '__add__' of list object at 0x000002345BA94A88>\n",
      "<class 'list'>\n",
      "<method-wrapper '__contains__' of list object at 0x000002345BA94A88>\n",
      "<method-wrapper '__delattr__' of list object at 0x000002345BA94A88>\n",
      "<method-wrapper '__delitem__' of list object at 0x000002345BA94A88>\n",
      "<built-in method __dir__ of list object at 0x000002345BA94A88>\n",
      "Built-in mutable sequence.\n",
      "\n",
      "If no argument is given, the constructor creates a new empty list.\n",
      "The argument must be an iterable if specified.\n",
      "<method-wrapper '__eq__' of list object at 0x000002345BA94A88>\n",
      "<built-in method __format__ of list object at 0x000002345BA94A88>\n",
      "<method-wrapper '__ge__' of list object at 0x000002345BA94A88>\n",
      "<method-wrapper '__getattribute__' of list object at 0x000002345BA94A88>\n",
      "<built-in method __getitem__ of list object at 0x000002345BA94A88>\n",
      "<method-wrapper '__gt__' of list object at 0x000002345BA94A88>\n",
      "None\n",
      "<method-wrapper '__iadd__' of list object at 0x000002345BA94A88>\n",
      "<method-wrapper '__imul__' of list object at 0x000002345BA94A88>\n",
      "<method-wrapper '__init__' of list object at 0x000002345BA94A88>\n",
      "<built-in method __init_subclass__ of type object at 0x00007FF9FAE5B720>\n",
      "<method-wrapper '__iter__' of list object at 0x000002345BA94A88>\n",
      "<method-wrapper '__le__' of list object at 0x000002345BA94A88>\n",
      "<method-wrapper '__len__' of list object at 0x000002345BA94A88>\n",
      "<method-wrapper '__lt__' of list object at 0x000002345BA94A88>\n",
      "<method-wrapper '__mul__' of list object at 0x000002345BA94A88>\n",
      "<method-wrapper '__ne__' of list object at 0x000002345BA94A88>\n",
      "<built-in method __new__ of type object at 0x00007FF9FAE5B720>\n",
      "<built-in method __reduce__ of list object at 0x000002345BA94A88>\n",
      "<built-in method __reduce_ex__ of list object at 0x000002345BA94A88>\n",
      "<method-wrapper '__repr__' of list object at 0x000002345BA94A88>\n",
      "<built-in method __reversed__ of list object at 0x000002345BA94A88>\n",
      "<method-wrapper '__rmul__' of list object at 0x000002345BA94A88>\n",
      "<method-wrapper '__setattr__' of list object at 0x000002345BA94A88>\n",
      "<method-wrapper '__setitem__' of list object at 0x000002345BA94A88>\n",
      "<built-in method __sizeof__ of list object at 0x000002345BA94A88>\n",
      "<method-wrapper '__str__' of list object at 0x000002345BA94A88>\n",
      "<built-in method __subclasshook__ of type object at 0x00007FF9FAE5B720>\n",
      "<built-in method append of list object at 0x000002345BA94A88>\n",
      "<built-in method clear of list object at 0x000002345BA94A88>\n",
      "<built-in method copy of list object at 0x000002345BA94A88>\n",
      "<built-in method count of list object at 0x000002345BA94A88>\n",
      "<built-in method extend of list object at 0x000002345BA94A88>\n",
      "<built-in method index of list object at 0x000002345BA94A88>\n",
      "<built-in method insert of list object at 0x000002345BA94A88>\n",
      "<built-in method pop of list object at 0x000002345BA94A88>\n",
      "<built-in method remove of list object at 0x000002345BA94A88>\n",
      "<built-in method reverse of list object at 0x000002345BA94A88>\n",
      "<built-in method sort of list object at 0x000002345BA94A88>\n"
     ]
    }
   ],
   "source": [
    "for i in range(0, len(dir(cities))):\n",
    "    attr = (dir(cities)[i])\n",
    "    print(getattr(cities, attr))"
   ]
  },
  {
   "cell_type": "code",
   "execution_count": null,
   "metadata": {},
   "outputs": [],
   "source": []
  }
 ],
 "metadata": {
  "kernelspec": {
   "display_name": "Python 3",
   "language": "python",
   "name": "python3"
  },
  "language_info": {
   "codemirror_mode": {
    "name": "ipython",
    "version": 3
   },
   "file_extension": ".py",
   "mimetype": "text/x-python",
   "name": "python",
   "nbconvert_exporter": "python",
   "pygments_lexer": "ipython3",
   "version": "3.7.0"
  }
 },
 "nbformat": 4,
 "nbformat_minor": 2
}
