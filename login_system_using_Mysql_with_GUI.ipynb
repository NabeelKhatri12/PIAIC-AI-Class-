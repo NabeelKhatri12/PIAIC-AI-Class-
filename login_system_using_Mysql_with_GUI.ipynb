{
 "cells": [
  {
   "cell_type": "code",
   "execution_count": 1,
   "metadata": {},
   "outputs": [],
   "source": [
    "import mysql.connector\n",
    "from tkinter import *\n",
    "mydb = mysql.connector.connect(\n",
    "  host=\"localhost\",\n",
    "  user=\"root\",\n",
    "  passwd=\"\",\n",
    "  db = \"login_system\"\n",
    ")\n",
    "target = mydb.cursor()\n",
    "target.execute(\"select * from users\")\n",
    "global userslist\n",
    "def onclick():\n",
    "    frame1 = Tk()\n",
    "    frame1.title(\"Information\")\n",
    "    frame1.geometry(\"200x200\")\n",
    "    for userslist in target:\n",
    "        if username.get() == userslist[1] and passWord.get() == userslist[2]:\n",
    "            label1 = Label(frame1, text=\"Valid user\").place(x=30, y=50)\n",
    "            btn = Button(frame1, text=\"Ok\", fg=\"red\",activebackground = \"red\",command = frame1.destroy).place(x=30, y=90)\n",
    "            break\n",
    "    else:\n",
    "        label2 = Label(frame1, text=\"Not a valid user. Try Again!\").place(x=30, y=50)\n",
    "        btn1 = Button(frame1, text=\"Try again\", fg=\"red\",activebackground = \"red\",command = frame1.destroy).place(x=30, y=90)\n",
    "frame = Tk()\n",
    "frame.title(\"Login System\")\n",
    "frame.geometry(\"400x400\")\n",
    "user_name = Label(frame, text = \"User Name\").place(x = 30,y = 50)\n",
    "password = Label(frame, text = \"Password\").place(x = 30, y = 90)\n",
    "global username \n",
    "username = StringVar()\n",
    "e1 = Entry(frame, textvariable = username).place(x = 100, y = 50)\n",
    "global passWord\n",
    "passWord = StringVar()\n",
    "e2 = Entry(frame, textvariable = passWord, show = \"*\").place(x = 100, y = 90)\n",
    "btn1 = Button(frame, text=\"Check\", fg=\"red\",activebackground = \"red\",command = onclick).place(x=30, y=130)\n",
    "frame.mainloop()"
   ]
  },
  {
   "cell_type": "code",
   "execution_count": null,
   "metadata": {},
   "outputs": [],
   "source": []
  }
 ],
 "metadata": {
  "kernelspec": {
   "display_name": "Python 3",
   "language": "python",
   "name": "python3"
  },
  "language_info": {
   "codemirror_mode": {
    "name": "ipython",
    "version": 3
   },
   "file_extension": ".py",
   "mimetype": "text/x-python",
   "name": "python",
   "nbconvert_exporter": "python",
   "pygments_lexer": "ipython3",
   "version": "3.7.0"
  }
 },
 "nbformat": 4,
 "nbformat_minor": 2
}
