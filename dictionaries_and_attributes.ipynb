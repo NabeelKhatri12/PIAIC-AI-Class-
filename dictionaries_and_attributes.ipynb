{
 "cells": [
  {
   "cell_type": "markdown",
   "metadata": {},
   "source": [
    "# Dictionary and its attributes"
   ]
  },
  {
   "cell_type": "code",
   "execution_count": 1,
   "metadata": {},
   "outputs": [],
   "source": [
    "name = {\"first name\": \"nabeel\", \"last name\": \"khatri\",}"
   ]
  },
  {
   "cell_type": "code",
   "execution_count": 2,
   "metadata": {},
   "outputs": [
    {
     "data": {
      "text/plain": [
       "['__class__',\n",
       " '__contains__',\n",
       " '__delattr__',\n",
       " '__delitem__',\n",
       " '__dir__',\n",
       " '__doc__',\n",
       " '__eq__',\n",
       " '__format__',\n",
       " '__ge__',\n",
       " '__getattribute__',\n",
       " '__getitem__',\n",
       " '__gt__',\n",
       " '__hash__',\n",
       " '__init__',\n",
       " '__init_subclass__',\n",
       " '__iter__',\n",
       " '__le__',\n",
       " '__len__',\n",
       " '__lt__',\n",
       " '__ne__',\n",
       " '__new__',\n",
       " '__reduce__',\n",
       " '__reduce_ex__',\n",
       " '__repr__',\n",
       " '__setattr__',\n",
       " '__setitem__',\n",
       " '__sizeof__',\n",
       " '__str__',\n",
       " '__subclasshook__',\n",
       " 'clear',\n",
       " 'copy',\n",
       " 'fromkeys',\n",
       " 'get',\n",
       " 'items',\n",
       " 'keys',\n",
       " 'pop',\n",
       " 'popitem',\n",
       " 'setdefault',\n",
       " 'update',\n",
       " 'values']"
      ]
     },
     "execution_count": 2,
     "metadata": {},
     "output_type": "execute_result"
    }
   ],
   "source": [
    "dir(name)"
   ]
  },
  {
   "cell_type": "code",
   "execution_count": 3,
   "metadata": {},
   "outputs": [
    {
     "name": "stdout",
     "output_type": "stream",
     "text": [
      "<class 'dict'>\n",
      "<built-in method __contains__ of dict object at 0x000002321241F948>\n",
      "<method-wrapper '__delattr__' of dict object at 0x000002321241F948>\n",
      "<method-wrapper '__delitem__' of dict object at 0x000002321241F948>\n",
      "<built-in method __dir__ of dict object at 0x000002321241F948>\n",
      "dict() -> new empty dictionary\n",
      "dict(mapping) -> new dictionary initialized from a mapping object's\n",
      "    (key, value) pairs\n",
      "dict(iterable) -> new dictionary initialized as if via:\n",
      "    d = {}\n",
      "    for k, v in iterable:\n",
      "        d[k] = v\n",
      "dict(**kwargs) -> new dictionary initialized with the name=value pairs\n",
      "    in the keyword argument list.  For example:  dict(one=1, two=2)\n",
      "<method-wrapper '__eq__' of dict object at 0x000002321241F948>\n",
      "<built-in method __format__ of dict object at 0x000002321241F948>\n",
      "<method-wrapper '__ge__' of dict object at 0x000002321241F948>\n",
      "<method-wrapper '__getattribute__' of dict object at 0x000002321241F948>\n",
      "<built-in method __getitem__ of dict object at 0x000002321241F948>\n",
      "<method-wrapper '__gt__' of dict object at 0x000002321241F948>\n",
      "None\n",
      "<method-wrapper '__init__' of dict object at 0x000002321241F948>\n",
      "<built-in method __init_subclass__ of type object at 0x00007FF9FAE531E0>\n",
      "<method-wrapper '__iter__' of dict object at 0x000002321241F948>\n",
      "<method-wrapper '__le__' of dict object at 0x000002321241F948>\n",
      "<method-wrapper '__len__' of dict object at 0x000002321241F948>\n",
      "<method-wrapper '__lt__' of dict object at 0x000002321241F948>\n",
      "<method-wrapper '__ne__' of dict object at 0x000002321241F948>\n",
      "<built-in method __new__ of type object at 0x00007FF9FAE531E0>\n",
      "<built-in method __reduce__ of dict object at 0x000002321241F948>\n",
      "<built-in method __reduce_ex__ of dict object at 0x000002321241F948>\n",
      "<method-wrapper '__repr__' of dict object at 0x000002321241F948>\n",
      "<method-wrapper '__setattr__' of dict object at 0x000002321241F948>\n",
      "<method-wrapper '__setitem__' of dict object at 0x000002321241F948>\n",
      "<built-in method __sizeof__ of dict object at 0x000002321241F948>\n",
      "<method-wrapper '__str__' of dict object at 0x000002321241F948>\n",
      "<built-in method __subclasshook__ of type object at 0x00007FF9FAE531E0>\n",
      "<built-in method clear of dict object at 0x000002321241F948>\n",
      "<built-in method copy of dict object at 0x000002321241F948>\n",
      "<built-in method fromkeys of type object at 0x00007FF9FAE531E0>\n",
      "<built-in method get of dict object at 0x000002321241F948>\n",
      "<built-in method items of dict object at 0x000002321241F948>\n",
      "<built-in method keys of dict object at 0x000002321241F948>\n",
      "<built-in method pop of dict object at 0x000002321241F948>\n",
      "<built-in method popitem of dict object at 0x000002321241F948>\n",
      "<built-in method setdefault of dict object at 0x000002321241F948>\n",
      "<built-in method update of dict object at 0x000002321241F948>\n",
      "<built-in method values of dict object at 0x000002321241F948>\n"
     ]
    }
   ],
   "source": [
    "for i in range(0, len(dir(name))):\n",
    "    attr = (dir(name)[i])\n",
    "    print(getattr(name, attr))"
   ]
  },
  {
   "cell_type": "code",
   "execution_count": null,
   "metadata": {},
   "outputs": [],
   "source": []
  }
 ],
 "metadata": {
  "kernelspec": {
   "display_name": "Python 3",
   "language": "python",
   "name": "python3"
  },
  "language_info": {
   "codemirror_mode": {
    "name": "ipython",
    "version": 3
   },
   "file_extension": ".py",
   "mimetype": "text/x-python",
   "name": "python",
   "nbconvert_exporter": "python",
   "pygments_lexer": "ipython3",
   "version": "3.7.0"
  }
 },
 "nbformat": 4,
 "nbformat_minor": 2
}
