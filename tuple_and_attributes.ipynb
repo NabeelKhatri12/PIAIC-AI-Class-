{
 "cells": [
  {
   "cell_type": "markdown",
   "metadata": {},
   "source": [
    "# Tuple and its attributes"
   ]
  },
  {
   "cell_type": "code",
   "execution_count": 1,
   "metadata": {},
   "outputs": [],
   "source": [
    "cities = ('karachi', 'islamabad', 'peshawar', 'lahore')"
   ]
  },
  {
   "cell_type": "code",
   "execution_count": 2,
   "metadata": {},
   "outputs": [
    {
     "data": {
      "text/plain": [
       "['__add__',\n",
       " '__class__',\n",
       " '__contains__',\n",
       " '__delattr__',\n",
       " '__dir__',\n",
       " '__doc__',\n",
       " '__eq__',\n",
       " '__format__',\n",
       " '__ge__',\n",
       " '__getattribute__',\n",
       " '__getitem__',\n",
       " '__getnewargs__',\n",
       " '__gt__',\n",
       " '__hash__',\n",
       " '__init__',\n",
       " '__init_subclass__',\n",
       " '__iter__',\n",
       " '__le__',\n",
       " '__len__',\n",
       " '__lt__',\n",
       " '__mul__',\n",
       " '__ne__',\n",
       " '__new__',\n",
       " '__reduce__',\n",
       " '__reduce_ex__',\n",
       " '__repr__',\n",
       " '__rmul__',\n",
       " '__setattr__',\n",
       " '__sizeof__',\n",
       " '__str__',\n",
       " '__subclasshook__',\n",
       " 'count',\n",
       " 'index']"
      ]
     },
     "execution_count": 2,
     "metadata": {},
     "output_type": "execute_result"
    }
   ],
   "source": [
    "dir(cities)"
   ]
  },
  {
   "cell_type": "code",
   "execution_count": 3,
   "metadata": {},
   "outputs": [
    {
     "name": "stdout",
     "output_type": "stream",
     "text": [
      "<method-wrapper '__add__' of tuple object at 0x0000015A33D8C0E8>\n",
      "<class 'tuple'>\n",
      "<method-wrapper '__contains__' of tuple object at 0x0000015A33D8C0E8>\n",
      "<method-wrapper '__delattr__' of tuple object at 0x0000015A33D8C0E8>\n",
      "<built-in method __dir__ of tuple object at 0x0000015A33D8C0E8>\n",
      "Built-in immutable sequence.\n",
      "\n",
      "If no argument is given, the constructor returns an empty tuple.\n",
      "If iterable is specified the tuple is initialized from iterable's items.\n",
      "\n",
      "If the argument is a tuple, the return value is the same object.\n",
      "<method-wrapper '__eq__' of tuple object at 0x0000015A33D8C0E8>\n",
      "<built-in method __format__ of tuple object at 0x0000015A33D8C0E8>\n",
      "<method-wrapper '__ge__' of tuple object at 0x0000015A33D8C0E8>\n",
      "<method-wrapper '__getattribute__' of tuple object at 0x0000015A33D8C0E8>\n",
      "<method-wrapper '__getitem__' of tuple object at 0x0000015A33D8C0E8>\n",
      "<built-in method __getnewargs__ of tuple object at 0x0000015A33D8C0E8>\n",
      "<method-wrapper '__gt__' of tuple object at 0x0000015A33D8C0E8>\n",
      "<method-wrapper '__hash__' of tuple object at 0x0000015A33D8C0E8>\n",
      "<method-wrapper '__init__' of tuple object at 0x0000015A33D8C0E8>\n",
      "<built-in method __init_subclass__ of type object at 0x00007FF9FAE5E570>\n",
      "<method-wrapper '__iter__' of tuple object at 0x0000015A33D8C0E8>\n",
      "<method-wrapper '__le__' of tuple object at 0x0000015A33D8C0E8>\n",
      "<method-wrapper '__len__' of tuple object at 0x0000015A33D8C0E8>\n",
      "<method-wrapper '__lt__' of tuple object at 0x0000015A33D8C0E8>\n",
      "<method-wrapper '__mul__' of tuple object at 0x0000015A33D8C0E8>\n",
      "<method-wrapper '__ne__' of tuple object at 0x0000015A33D8C0E8>\n",
      "<built-in method __new__ of type object at 0x00007FF9FAE5E570>\n",
      "<built-in method __reduce__ of tuple object at 0x0000015A33D8C0E8>\n",
      "<built-in method __reduce_ex__ of tuple object at 0x0000015A33D8C0E8>\n",
      "<method-wrapper '__repr__' of tuple object at 0x0000015A33D8C0E8>\n",
      "<method-wrapper '__rmul__' of tuple object at 0x0000015A33D8C0E8>\n",
      "<method-wrapper '__setattr__' of tuple object at 0x0000015A33D8C0E8>\n",
      "<built-in method __sizeof__ of tuple object at 0x0000015A33D8C0E8>\n",
      "<method-wrapper '__str__' of tuple object at 0x0000015A33D8C0E8>\n",
      "<built-in method __subclasshook__ of type object at 0x00007FF9FAE5E570>\n",
      "<built-in method count of tuple object at 0x0000015A33D8C0E8>\n",
      "<built-in method index of tuple object at 0x0000015A33D8C0E8>\n"
     ]
    }
   ],
   "source": [
    "for i in range(0, len(dir(cities))):\n",
    "    attr = (dir(cities)[i])\n",
    "    print(getattr(cities, attr))"
   ]
  },
  {
   "cell_type": "code",
   "execution_count": null,
   "metadata": {},
   "outputs": [],
   "source": []
  }
 ],
 "metadata": {
  "kernelspec": {
   "display_name": "Python 3",
   "language": "python",
   "name": "python3"
  },
  "language_info": {
   "codemirror_mode": {
    "name": "ipython",
    "version": 3
   },
   "file_extension": ".py",
   "mimetype": "text/x-python",
   "name": "python",
   "nbconvert_exporter": "python",
   "pygments_lexer": "ipython3",
   "version": "3.7.0"
  }
 },
 "nbformat": 4,
 "nbformat_minor": 2
}
