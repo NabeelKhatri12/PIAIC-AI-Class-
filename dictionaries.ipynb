{
 "cells": [
  {
   "cell_type": "markdown",
   "metadata": {},
   "source": [
    "# Dictionaries and methods"
   ]
  },
  {
   "cell_type": "code",
   "execution_count": 1,
   "metadata": {},
   "outputs": [
    {
     "name": "stdout",
     "output_type": "stream",
     "text": [
      "{'first name': 'Nabeel', 'last name': 'Muhammad Iqbal', 'Department': 'Computer Science', 'Roll no': '604BCS'}\n"
     ]
    }
   ],
   "source": [
    "#Chapter 26 Dictionaries: How to code one\n",
    "#First Method\n",
    "bio_data={\"first name\":\"Nabeel\",\"last name\":\"Muhammad Iqbal\",\"Department\":\"Computer Science\",\"Roll no\":\"604BCS\"}\n",
    "print(bio_data)"
   ]
  },
  {
   "cell_type": "code",
   "execution_count": 2,
   "metadata": {},
   "outputs": [
    {
     "name": "stdout",
     "output_type": "stream",
     "text": [
      "{'First Name': 'Nabeel', 'Last Name': 'Muhammad Iqbal', 'Semester': '3rd', 'Department': 'Computer Science', 'Address': 'Lyari'}\n"
     ]
    }
   ],
   "source": [
    "#Second Method\n",
    "my_bio_data={}\n",
    "my_bio_data[\"First Name\"]=\"Nabeel\"\n",
    "my_bio_data[\"Last Name\"]=\"Muhammad Iqbal\"\n",
    "my_bio_data[\"Semester\"]=\"3rd\"\n",
    "my_bio_data[\"Department\"]=\"Computer Science\"\n",
    "my_bio_data[\"Address\"]=\"Lyari\"\n",
    "print(my_bio_data)"
   ]
  },
  {
   "cell_type": "code",
   "execution_count": 3,
   "metadata": {},
   "outputs": [
    {
     "name": "stdout",
     "output_type": "stream",
     "text": [
      "Computer Science\n"
     ]
    }
   ],
   "source": [
    "#Chapter 27\n",
    "#Dictionaries: How to pick information out of them\n",
    "bio_data={\"first name\":\"Nabeel\",\"last name\":\"Muhammad Iqbal\",\"Department\":\"Computer Science\",\"Roll no\":\"604BCS\"}\n",
    "my_dept = bio_data[\"Department\"]\n",
    "print(my_dept)"
   ]
  },
  {
   "cell_type": "code",
   "execution_count": 4,
   "metadata": {},
   "outputs": [
    {
     "name": "stdout",
     "output_type": "stream",
     "text": [
      "Computer Science\n"
     ]
    }
   ],
   "source": [
    "#Chapter 28\n",
    "#Dictionaries: The versatility of keys and values\n",
    "bio_data={1:\"Nabeel\",2:\"Muhammad Iqbal\",3:\"Computer Science\",4:\"604BCS\"}\n",
    "my_dept = bio_data[3]\n",
    "print(my_dept)"
   ]
  },
  {
   "cell_type": "code",
   "execution_count": 5,
   "metadata": {},
   "outputs": [
    {
     "name": "stdout",
     "output_type": "stream",
     "text": [
      "{'first name': 'Nabeel', 'last name': 'Muhammad Iqbal', 'Department': 'Computer Science', 'Roll no': '604BCS', 'Address': 'Lyari'}\n"
     ]
    }
   ],
   "source": [
    "#Chapter 29\n",
    "#Adding items\n",
    "bio_data={\"first name\":\"Nabeel\",\"last name\":\"Muhammad Iqbal\",\"Department\":\"Computer Science\",\"Roll no\":\"604BCS\"}\n",
    "bio_data[\"Address\"]=\"Lyari\"\n",
    "print(bio_data)"
   ]
  },
  {
   "cell_type": "code",
   "execution_count": 6,
   "metadata": {},
   "outputs": [
    {
     "name": "stdout",
     "output_type": "stream",
     "text": [
      "{'first name': 'Nabeel', 'last name': 'Muhammad Iqbal', 'Department': 'Computer Science', 'Roll no': '604BCS'}\n"
     ]
    }
   ],
   "source": [
    "#Chapter 30 \n",
    "#Dictionaries: Removing and changing items\n",
    "bio_data={'first name': 'Nabeel', 'last name': 'Muhammad Iqbal', 'Department': 'Computer Science', 'Roll no': '604BCS',\n",
    "          'Address': 'Lyari'}\n",
    "del bio_data[\"Address\"]\n",
    "print(bio_data)"
   ]
  },
  {
   "cell_type": "code",
   "execution_count": 7,
   "metadata": {},
   "outputs": [
    {
     "name": "stdout",
     "output_type": "stream",
     "text": [
      "{'first name': 'Nabeel', 'last name': 'Muhammad Iqbal', 'Department': 'Computer Science', 'Roll no': '604BCS', 'Address': 'Karachi'}\n"
     ]
    }
   ],
   "source": [
    "bio_data={'first name': 'Nabeel', 'last name': 'Muhammad Iqbal', 'Department': 'Computer Science', 'Roll no': '604BCS',\n",
    "          'Address': 'Lyari'}\n",
    "bio_data[\"Address\"] = \"Karachi\"\n",
    "print(bio_data)"
   ]
  },
  {
   "cell_type": "code",
   "execution_count": 8,
   "metadata": {},
   "outputs": [
    {
     "name": "stdout",
     "output_type": "stream",
     "text": [
      "Nabeel\n",
      "Muhammad Iqbal\n",
      "Computer Science\n",
      "604BCS\n",
      "Lyari\n"
     ]
    }
   ],
   "source": [
    "#Chapter 31 \n",
    "#Looping through values\n",
    "bio_data={'first name': 'Nabeel', 'last name': 'Muhammad Iqbal', 'Department': 'Computer Science', 'Roll no': '604BCS',\n",
    "          'Address': 'Lyari'}\n",
    "for value in bio_data.values():\n",
    "    print(value)"
   ]
  },
  {
   "cell_type": "code",
   "execution_count": 9,
   "metadata": {},
   "outputs": [
    {
     "name": "stdout",
     "output_type": "stream",
     "text": [
      "first name\n",
      "last name\n",
      "Department\n",
      "Roll no\n",
      "Address\n"
     ]
    }
   ],
   "source": [
    "#Chapter 32\n",
    "#Dictionaries: Looping through keys\n",
    "bio_data={'first name': 'Nabeel', 'last name': 'Muhammad Iqbal', 'Department': 'Computer Science', 'Roll no': '604BCS',\n",
    "          'Address': 'Lyari'}\n",
    "for keys in bio_data.keys():\n",
    "    print(keys)"
   ]
  },
  {
   "cell_type": "code",
   "execution_count": 10,
   "metadata": {},
   "outputs": [
    {
     "name": "stdout",
     "output_type": "stream",
     "text": [
      "first name is Nabeel\n",
      "last name is Muhammad Iqbal\n",
      "Department is Computer Science\n",
      "Roll no is 604BCS\n",
      "Address is Lyari\n"
     ]
    }
   ],
   "source": [
    "#Chapter 33\n",
    "#Dictionaries: Looping through key_value pair\n",
    "bio_data={'first name': 'Nabeel', 'last name': 'Muhammad Iqbal', 'Department': 'Computer Science', 'Roll no': '604BCS',\n",
    "          'Address': 'Lyari'}\n",
    "for each_key,each_value in bio_data.items():\n",
    "    print(each_key+\" is \"+each_value)"
   ]
  },
  {
   "cell_type": "code",
   "execution_count": 11,
   "metadata": {},
   "outputs": [
    {
     "data": {
      "text/plain": [
       "dict_items([('first name', 'Nabeel'), ('last name', 'Muhammad Iqbal'), ('Department', 'Computer Science'), ('Roll no', '604BCS'), ('Address', 'Lyari')])"
      ]
     },
     "execution_count": 11,
     "metadata": {},
     "output_type": "execute_result"
    }
   ],
   "source": [
    "#Chapter 34\n",
    "#Creating a list of dictionary\n",
    "bio_data={'first name': 'Nabeel', 'last name': 'Muhammad Iqbal', 'Department': 'Computer Science', 'Roll no': '604BCS',\n",
    "          'Address': 'Lyari'}\n",
    "bio_data.items()"
   ]
  },
  {
   "cell_type": "code",
   "execution_count": 12,
   "metadata": {},
   "outputs": [
    {
     "data": {
      "text/plain": [
       "dict_keys(['first name', 'last name', 'Department', 'Roll no', 'Address'])"
      ]
     },
     "execution_count": 12,
     "metadata": {},
     "output_type": "execute_result"
    }
   ],
   "source": [
    "bio_data.keys()"
   ]
  },
  {
   "cell_type": "code",
   "execution_count": 13,
   "metadata": {},
   "outputs": [
    {
     "data": {
      "text/plain": [
       "dict_values(['Nabeel', 'Muhammad Iqbal', 'Computer Science', '604BCS', 'Lyari'])"
      ]
     },
     "execution_count": 13,
     "metadata": {},
     "output_type": "execute_result"
    }
   ],
   "source": [
    "bio_data.values()"
   ]
  },
  {
   "cell_type": "code",
   "execution_count": 14,
   "metadata": {},
   "outputs": [
    {
     "name": "stdout",
     "output_type": "stream",
     "text": [
      "8chowk\n"
     ]
    }
   ],
   "source": [
    "#Chapter 35\n",
    "#How to pick information out of a list of a dictionary\n",
    "bio_data=[{'first name': 'Nabeel', 'last name': 'Muhammad Iqbal', 'Department': 'Computer Science', 'Roll no': '604BCS',\n",
    "          'Address': '8chowk'},\n",
    "         {'first name': 'Umair', 'last name': 'Javed', 'Department': 'Computer Science', 'Roll no': '628BCS',\n",
    "          'Address': 'chakiwara'}]\n",
    "dictionary_to_look_in = bio_data[0]\n",
    "address=dictionary_to_look_in[\"Address\"]\n",
    "print(address)"
   ]
  },
  {
   "cell_type": "code",
   "execution_count": 15,
   "metadata": {},
   "outputs": [
    {
     "name": "stdout",
     "output_type": "stream",
     "text": [
      "[{'first name': 'Nabeel', 'last name': 'Muhammad iqbal'}, {'first name': 'Umair', 'last name': 'Javed'}, {'first name': 'Rashid', 'last name': 'Saleem'}]\n"
     ]
    }
   ],
   "source": [
    "#Chapter 36\n",
    "#How to append a new dictionary to a list of dictionary\n",
    "bio_data=[\n",
    "    {\n",
    "        'first name': 'Nabeel',\n",
    "        'last name': 'Muhammad iqbal'\n",
    "    },\n",
    "    {\n",
    "        'first name': 'Umair', 'last name': 'Javed',\n",
    "    }\n",
    "]\n",
    "new_dictionary={\n",
    "    'first name': 'Rashid',\n",
    "    'last name': 'Saleem',\n",
    "    }\n",
    "bio_data.append(new_dictionary)\n",
    "print(bio_data)"
   ]
  },
  {
   "cell_type": "code",
   "execution_count": 16,
   "metadata": {},
   "outputs": [
    {
     "name": "stdout",
     "output_type": "stream",
     "text": [
      "{'first name': 'Nabeel', 'last name': 'Muhammad Iqbal', 'Department': 'Computer Science', 'Roll no': '604BCS', 'Address': 'Lyari', 'cities_visited': ['karachi', 'lahore', 'islamabad']}\n"
     ]
    }
   ],
   "source": [
    "#Chapter 37\n",
    "#Creating a dictionary that contains lists\n",
    "bio_data={'first name': 'Nabeel', 'last name': 'Muhammad Iqbal', 'Department': 'Computer Science', 'Roll no': '604BCS',\n",
    "          'Address': 'Lyari',\"cities_visited\":[\"karachi\",\"lahore\",\"islamabad\"]}\n",
    "print(bio_data)"
   ]
  },
  {
   "cell_type": "code",
   "execution_count": 17,
   "metadata": {},
   "outputs": [
    {
     "name": "stdout",
     "output_type": "stream",
     "text": [
      "Move to Lahore\n"
     ]
    }
   ],
   "source": [
    "#Chapter 38\n",
    "#How to get information out of a list with in a dictionary\n",
    "bio_data={'first name': 'Nabeel', 'last name': 'Muhammad Iqbal', 'Department': 'Computer Science', 'Roll no': '604BCS',\n",
    "          'Address': 'Lyari',\"cities_visited\":[\"karachi\",\"lahore\",\"islamabad\"]}\n",
    "for cities in bio_data.keys():\n",
    "    find = \"lahore\"\n",
    "    if find == \"karachi\" in bio_data[\"cities_visited\"]:\n",
    "        print(\"Move to Karachi\")\n",
    "        break\n",
    "    elif find == \"lahore\" in bio_data[\"cities_visited\"]:\n",
    "        print(\"Move to Lahore\")\n",
    "        break\n",
    "    elif find == \"islamabad\" in bio_data[\"cities_visited\"]:\n",
    "        print(\"Move to Islamabad\")\n",
    "        break\n",
    "    else:\n",
    "        print(\"not in list\")\n",
    "        break"
   ]
  },
  {
   "cell_type": "code",
   "execution_count": 18,
   "metadata": {},
   "outputs": [
    {
     "name": "stdout",
     "output_type": "stream",
     "text": [
      "{0: {'first name': 'Nabeel', 'last name': 'Muhammad Iqbal', 'Department': 'Computer Science', 'Roll no': '604BCS', 'Address': '8chowk'}, 1: {'first name': 'Umair', 'last name': 'Javed', 'Department': 'Computer Science', 'Roll no': '628BCS'}}\n"
     ]
    }
   ],
   "source": [
    "#Chapter 39\n",
    "#Creating a dictionary that contains a dictionary\n",
    "bio_data={0:{'first name': 'Nabeel', 'last name': 'Muhammad Iqbal', 'Department': 'Computer Science', 'Roll no': '604BCS',\n",
    "          'Address': '8chowk'},\n",
    "         1:{'first name': 'Umair', 'last name': 'Javed', 'Department': 'Computer Science', 'Roll no': '628BCS'}\n",
    "         }\n",
    "print(bio_data)"
   ]
  },
  {
   "cell_type": "code",
   "execution_count": 19,
   "metadata": {},
   "outputs": [
    {
     "name": "stdout",
     "output_type": "stream",
     "text": [
      "{'first name': 'Nabeel', 'last name': 'Muhammad Iqbal', 'Department': 'Computer Science', 'Roll no': '604BCS', 'Address': '8chowk'}\n"
     ]
    }
   ],
   "source": [
    "#Chapter 40\n",
    "#How to get information out of a dictionary witin another dictionary\n",
    "bio_data={0:{'first name': 'Nabeel', 'last name': 'Muhammad Iqbal', 'Department': 'Computer Science', 'Roll no': '604BCS',\n",
    "          'Address': '8chowk'},\n",
    "         1:{'first name': 'Umair', 'last name': 'Javed', 'Department': 'Computer Science', 'Roll no': '628BCS'}\n",
    "         }\n",
    "print(bio_data[0])"
   ]
  },
  {
   "cell_type": "code",
   "execution_count": null,
   "metadata": {},
   "outputs": [],
   "source": []
  }
 ],
 "metadata": {
  "kernelspec": {
   "display_name": "Python 3",
   "language": "python",
   "name": "python3"
  },
  "language_info": {
   "codemirror_mode": {
    "name": "ipython",
    "version": 3
   },
   "file_extension": ".py",
   "mimetype": "text/x-python",
   "name": "python",
   "nbconvert_exporter": "python",
   "pygments_lexer": "ipython3",
   "version": "3.7.0"
  }
 },
 "nbformat": 4,
 "nbformat_minor": 2
}
