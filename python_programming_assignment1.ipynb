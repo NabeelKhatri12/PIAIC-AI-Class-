{
 "cells": [
  {
   "cell_type": "markdown",
   "metadata": {},
   "source": [
    "# Python Programming Assignment1"
   ]
  },
  {
   "cell_type": "code",
   "execution_count": 1,
   "metadata": {},
   "outputs": [
    {
     "name": "stdout",
     "output_type": "stream",
     "text": [
      "Enter radius value:0.5\n",
      "Area of a circle with radius 0.5 is 0.7855\n"
     ]
    }
   ],
   "source": [
    "# 1. Calculate area of a circle\n",
    "radius = float(input(\"Enter radius value:\"))\n",
    "area = 3.142 * radius ** 2\n",
    "print(\"Area of a circle with radius\", radius, \"is\", area)"
   ]
  },
  {
   "cell_type": "code",
   "execution_count": 2,
   "metadata": {},
   "outputs": [
    {
     "name": "stdout",
     "output_type": "stream",
     "text": [
      "Enter number:-1\n",
      "Negative Number Entered\n"
     ]
    }
   ],
   "source": [
    "# 2. Write a program to check if a number is positive, negative or zero\n",
    "num = int(input(\"Enter number:\"))\n",
    "if num == 0:\n",
    "    print(\"Zero Entered\")\n",
    "elif num >= 1:\n",
    "    print(\"Positive Number Entered\")\n",
    "else:\n",
    "    print(\"Negative Number Entered\")"
   ]
  },
  {
   "cell_type": "code",
   "execution_count": 3,
   "metadata": {},
   "outputs": [
    {
     "name": "stdout",
     "output_type": "stream",
     "text": [
      "Enter numerator:4\n",
      "Enter denominator:2\n",
      "Number 4 is completely divisible by 2\n"
     ]
    }
   ],
   "source": [
    "# 3. Divisibility check of two numbers\n",
    "numerator = int(input(\"Enter numerator:\"))\n",
    "denominator = int(input(\"Enter denominator:\"))\n",
    "if numerator % denominator == 0:\n",
    "    print(\"Number\", numerator, \"is completely divisible by\", denominator)\n",
    "else:\n",
    "    print(\"Number\", numerator, \"is not completely divisible by\", denominator)"
   ]
  },
  {
   "cell_type": "code",
   "execution_count": 4,
   "metadata": {},
   "outputs": [
    {
     "name": "stdout",
     "output_type": "stream",
     "text": [
      "There are 4 between 2018-12-12 and 2018-12-16\n"
     ]
    }
   ],
   "source": [
    "# 4. Days calculator\n",
    "from datetime import date\n",
    "f_date = date(2018, 12, 12)\n",
    "l_date = date(2018, 12, 16)\n",
    "delta = l_date - f_date\n",
    "days = delta.days\n",
    "print(\"There are\", days, \"between\", f_date, \"and\", l_date)"
   ]
  },
  {
   "cell_type": "code",
   "execution_count": 5,
   "metadata": {},
   "outputs": [
    {
     "name": "stdout",
     "output_type": "stream",
     "text": [
      "Enter radius of a sphere:1\n",
      "Volume of the sphere with radius 1.0 is 4.189333333333333\n"
     ]
    }
   ],
   "source": [
    "# 5. Calculate volume of a sphere\n",
    "radius = float(input(\"Enter radius of a sphere:\"))\n",
    "volume = (4 / 3) * 3.142 * radius ** 3\n",
    "print(\"Volume of the sphere with radius\", radius, \"is\", volume)"
   ]
  },
  {
   "cell_type": "code",
   "execution_count": 6,
   "metadata": {},
   "outputs": [
    {
     "name": "stdout",
     "output_type": "stream",
     "text": [
      "Enter String:hi\n",
      "How many copies of string you need4\n",
      "4 copies of hi are hihihihi\n"
     ]
    }
   ],
   "source": [
    "# 6. Copy string n times\n",
    "n = input(\"Enter String:\")\n",
    "copies = int(input(\"How many copies of string you need\"))\n",
    "copy = \"\"\n",
    "for i in range (0, copies):\n",
    "    copy += n\n",
    "print(copies, \"copies of\", n, \"are\", copy)    "
   ]
  },
  {
   "cell_type": "code",
   "execution_count": 7,
   "metadata": {},
   "outputs": [
    {
     "name": "stdout",
     "output_type": "stream",
     "text": [
      "Enter number:4\n",
      "4 is even\n"
     ]
    }
   ],
   "source": [
    "# 7. Check if number is even or odd\n",
    "num = int(input(\"Enter number:\"))\n",
    "if num % 2 == 0:\n",
    "    print(num, \"is even\")\n",
    "else:\n",
    "    print(num, \"is odd\")"
   ]
  },
  {
   "cell_type": "code",
   "execution_count": 8,
   "metadata": {},
   "outputs": [
    {
     "name": "stdout",
     "output_type": "stream",
     "text": [
      "Enter Character: A\n",
      "Letter A is vowel\n"
     ]
    }
   ],
   "source": [
    "# 8. Vowel tester\n",
    "letter = input(\"Enter Character: \")\n",
    "if letter == 'A' or letter == 'E' or letter == 'I' or letter == 'O' or letter == 'U' or letter == 'a' or letter == 'e' or letter == 'i' or letter == 'o' or letter == 'u':\n",
    "    print(\"Letter\", letter, \"is vowel\")\n",
    "else:\n",
    "    print(\"Letter\", letter, \"is not vowel\")"
   ]
  },
  {
   "cell_type": "code",
   "execution_count": 9,
   "metadata": {},
   "outputs": [
    {
     "name": "stdout",
     "output_type": "stream",
     "text": [
      "Enter magnitude of triangle base: 4\n",
      "Enter magnitude of triangle height: 4\n",
      "Area of a triangle with height 4 and Base 4 is 8.0\n"
     ]
    }
   ],
   "source": [
    "# 9. Calculate triangle area\n",
    "base = int(input(\"Enter magnitude of triangle base: \"))\n",
    "height = int(input(\"Enter magnitude of triangle height: \"))\n",
    "area = 1 / 2 * (base * height)\n",
    "print(\"Area of a triangle with height\", height, \"and Base\", base, \"is\", area)"
   ]
  },
  {
   "cell_type": "code",
   "execution_count": 10,
   "metadata": {},
   "outputs": [
    {
     "name": "stdout",
     "output_type": "stream",
     "text": [
      "Enter principle amount: 10000\n",
      "Please enter rate of interest in %: 0.1\n",
      "Enter number of years for investment: 5\n",
      "After 5.0 your principal amount 10000.0 over an interest rate of 0.1 will be 16105.100000000006\n"
     ]
    }
   ],
   "source": [
    "# 10. Calculate interest\n",
    "principle_amount = float(input(\"Enter principle amount: \"))\n",
    "rate_of_interest = float(input(\"Please enter rate of interest in %: \"))\n",
    "time_period = float(input(\"Enter number of years for investment: \"))\n",
    "fut_value = principle_amount *((1 + rate_of_interest)  ** time_period)\n",
    "print(\"After\", time_period, \"your principal amount\", principle_amount, \"over an interest rate of\", rate_of_interest, \"will be\", fut_value)"
   ]
  },
  {
   "cell_type": "code",
   "execution_count": 11,
   "metadata": {},
   "outputs": [
    {
     "name": "stdout",
     "output_type": "stream",
     "text": [
      "Enter co-ordinate for x1: 2\n",
      "Enter co-ordinate for x2: 4\n",
      "Enter co-ordinate for y1: 4\n",
      "Enter co-ordinate for y2: 4\n",
      "Distance between points (2, 4) and (4, 4) is 2.0\n"
     ]
    }
   ],
   "source": [
    "# 11. Euclidean distance\n",
    "import math\n",
    "x1 = int(input(\"Enter co-ordinate for x1: \"))\n",
    "x2 = int(input(\"Enter co-ordinate for x2: \"))\n",
    "y1 = int(input(\"Enter co-ordinate for y1: \"))\n",
    "y2 = int(input(\"Enter co-ordinate for y2: \"))\n",
    "distance = math.sqrt((x2 - x1)**2 + (y2 -y1)**2)\n",
    "print(\"Distance between points (2, 4) and (4, 4) is\", distance)"
   ]
  },
  {
   "cell_type": "code",
   "execution_count": 12,
   "metadata": {},
   "outputs": [
    {
     "name": "stdout",
     "output_type": "stream",
     "text": [
      "Enter Height in Feet: 5\n",
      "There are 152.4 Cm in 5.0 ft\n"
     ]
    }
   ],
   "source": [
    "# 12. Feet to centimeter converter\n",
    "height = float(input(\"Enter Height in Feet: \"))\n",
    "centimeter = height * 30.48\n",
    "print(\"There are\", centimeter, \"Cm in\", height, \"ft\")"
   ]
  },
  {
   "cell_type": "code",
   "execution_count": 13,
   "metadata": {},
   "outputs": [
    {
     "name": "stdout",
     "output_type": "stream",
     "text": [
      "Enter height in Cm: 180\n",
      "Enter weight in Kg: 75\n",
      "Your BMI is: 23.148148148148145\n"
     ]
    }
   ],
   "source": [
    "# 13. BMI calculator\n",
    "height = float(input(\"Enter height in Cm: \"))\n",
    "h = height * 0.01\n",
    "weight = float(input(\"Enter weight in Kg: \"))\n",
    "bmi = weight / (h**2)\n",
    "print(\"Your BMI is:\", bmi)"
   ]
  },
  {
   "cell_type": "code",
   "execution_count": 15,
   "metadata": {},
   "outputs": [
    {
     "name": "stdout",
     "output_type": "stream",
     "text": [
      "Enter value of n: 5\n",
      "15\n"
     ]
    }
   ],
   "source": [
    "# 14. Sum of n positive integers\n",
    "n = int(input(\"Enter value of n: \"))\n",
    "add = 0\n",
    "for i in range (0, n+1):\n",
    "    add += i\n",
    "print(add)    "
   ]
  },
  {
   "cell_type": "code",
   "execution_count": 16,
   "metadata": {},
   "outputs": [
    {
     "name": "stdout",
     "output_type": "stream",
     "text": [
      "Enter number: 15\n",
      "Sum is 6\n"
     ]
    }
   ],
   "source": [
    "# 15. Digits sum of a number\n",
    "num = int(input(\"Enter number: \"))\n",
    "tot = 0\n",
    "while num > 0:\n",
    "    dig = num % 10\n",
    "    tot += dig\n",
    "    num = num // 10\n",
    "print(\"Sum is\", tot)"
   ]
  },
  {
   "cell_type": "code",
   "execution_count": 17,
   "metadata": {},
   "outputs": [
    {
     "name": "stdout",
     "output_type": "stream",
     "text": [
      "Enter decimal number: 5\n",
      "Binary representation of 5 is 0b101\n"
     ]
    }
   ],
   "source": [
    "# 16. Decimal to binary converter\n",
    "num = int(input(\"Enter decimal number: \"))\n",
    "binary = bin(num)\n",
    "print(\"Binary representation of\", num, \"is\", binary)"
   ]
  },
  {
   "cell_type": "code",
   "execution_count": 18,
   "metadata": {},
   "outputs": [
    {
     "name": "stdout",
     "output_type": "stream",
     "text": [
      "Input a binary number: 1101\n",
      "Decimal representation of number is 13\n"
     ]
    }
   ],
   "source": [
    "# 17. Binary to decimal converter\n",
    "b_num = list(input(\"Input a binary number: \"))\n",
    "value = 0\n",
    "\n",
    "for i in range(len(b_num)):\n",
    "    digit = b_num.pop()\n",
    "    if digit == '1':\n",
    "        value = value + pow(2, i)\n",
    "print(\"Decimal representation of number is\", value)"
   ]
  },
  {
   "cell_type": "code",
   "execution_count": 19,
   "metadata": {},
   "outputs": [
    {
     "name": "stdout",
     "output_type": "stream",
     "text": [
      "Enter Text: QuickBrownfoxjumpsoverthedog\n",
      "Vowels = 9\n",
      "Consonants = 19\n"
     ]
    }
   ],
   "source": [
    "# 18. Vowel and consonants counter\n",
    "n = input(\"Enter Text: \")\n",
    "vowel = 0\n",
    "consonant = 0\n",
    "for i in n:\n",
    "    if i == 'A' or i == 'E' or i == 'I' or i == 'O' or i == 'U' or i == 'a' or i == 'e' or i == 'i' or i == 'o' or i == 'u':\n",
    "        vowel += 1\n",
    "    else:\n",
    "        consonant += 1\n",
    "print(\"Vowels =\", vowel)\n",
    "print(\"Consonants =\", consonant)"
   ]
  },
  {
   "cell_type": "code",
   "execution_count": 20,
   "metadata": {},
   "outputs": [
    {
     "name": "stdout",
     "output_type": "stream",
     "text": [
      "Enter text: AHA\n",
      "Text aha is Palindrome\n"
     ]
    }
   ],
   "source": [
    "# 19. Palindrome tester\n",
    "n = input(\"Enter text: \")\n",
    "n = n.casefold()\n",
    "rev_str = reversed(n)\n",
    "if list(n) == list(rev_str):\n",
    "    print(\"Text\", n, \"is Palindrome\")\n",
    "else:\n",
    "    print(\"Text\", n, \"is not a Palindrome\")"
   ]
  },
  {
   "cell_type": "code",
   "execution_count": 21,
   "metadata": {},
   "outputs": [
    {
     "name": "stdout",
     "output_type": "stream",
     "text": [
      "Please Enter your Own String : Python 3.2\n",
      "Alphabets:   6\n",
      "Digits:   2\n",
      "Spaces:  1\n",
      "Special Characters:   1\n"
     ]
    }
   ],
   "source": [
    "# 20. Count alphabets, numbers and special characters\n",
    "string = input(\"Please Enter your Own String : \")\n",
    "alphabets = 0 \n",
    "digits = 0\n",
    "space = 0\n",
    "special = 0\n",
    "for i in range(len(string)):\n",
    "    if(string[i].isalpha()):\n",
    "        alphabets += 1\n",
    "    elif(string[i].isdigit()):\n",
    "        digits += 1\n",
    "    elif string[i].isspace():\n",
    "        space += 1\n",
    "    else:\n",
    "        special += 1\n",
    "print(\"Alphabets:  \", alphabets)\n",
    "print(\"Digits:  \", digits)\n",
    "print(\"Spaces: \", space)\n",
    "print(\"Special Characters:  \", special)"
   ]
  },
  {
   "cell_type": "code",
   "execution_count": 22,
   "metadata": {},
   "outputs": [
    {
     "name": "stdout",
     "output_type": "stream",
     "text": [
      "\n",
      "* \n",
      "* * \n",
      "* * * \n",
      "* * * * \n",
      "* * * * * \n",
      "* * * * \n",
      "* * * \n",
      "* * \n",
      "* \n"
     ]
    }
   ],
   "source": [
    "# 21. Write a program to construct the following pattern\n",
    "n=5;\n",
    "for i in range(n):\n",
    "    for j in range(i):\n",
    "        print ('* ', end=\"\")\n",
    "    print('')\n",
    "\n",
    "for i in range(n,0,-1):\n",
    "    for j in range(i):\n",
    "        print('* ', end=\"\")\n",
    "    print('')"
   ]
  },
  {
   "cell_type": "code",
   "execution_count": 23,
   "metadata": {},
   "outputs": [
    {
     "name": "stdout",
     "output_type": "stream",
     "text": [
      "\n",
      "1\n",
      "12\n",
      "123\n",
      "1234\n",
      "12345\n",
      "1234\n",
      "123\n",
      "12\n",
      "1\n"
     ]
    }
   ],
   "source": [
    "# 22. Write a program to construct the following pattern\n",
    "n=5;\n",
    "for i in range(1, n + 1):\n",
    "    for j in range(1, i):\n",
    "        print (j, end=\"\")\n",
    "    print('')\n",
    "\n",
    "for i in range(n + 1, 1,-1):\n",
    "    for j in range(1, i):\n",
    "        print(j, end=\"\")\n",
    "    print('')"
   ]
  },
  {
   "cell_type": "code",
   "execution_count": 24,
   "metadata": {},
   "outputs": [
    {
     "name": "stdout",
     "output_type": "stream",
     "text": [
      "\n",
      "1\n",
      "22\n",
      "333\n",
      "4444\n",
      "55555\n",
      "666666\n",
      "7777777\n",
      "88888888\n",
      "999999999\n"
     ]
    }
   ],
   "source": [
    "# 23. Write a program to construct the following pattern\n",
    "n = 9\n",
    "for i in range(0, n + 1):\n",
    "    for j in range(0, i):\n",
    "        print (i, end=\"\")\n",
    "    print('')"
   ]
  },
  {
   "cell_type": "code",
   "execution_count": null,
   "metadata": {},
   "outputs": [],
   "source": []
  }
 ],
 "metadata": {
  "kernelspec": {
   "display_name": "Python 3",
   "language": "python",
   "name": "python3"
  },
  "language_info": {
   "codemirror_mode": {
    "name": "ipython",
    "version": 3
   },
   "file_extension": ".py",
   "mimetype": "text/x-python",
   "name": "python",
   "nbconvert_exporter": "python",
   "pygments_lexer": "ipython3",
   "version": "3.7.0"
  }
 },
 "nbformat": 4,
 "nbformat_minor": 2
}
